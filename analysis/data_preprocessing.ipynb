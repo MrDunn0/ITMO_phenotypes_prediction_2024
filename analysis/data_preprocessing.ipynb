{
 "cells": [
  {
   "cell_type": "code",
   "execution_count": 1,
   "id": "275fc348-8575-4f0a-bb1a-da633b67b486",
   "metadata": {},
   "outputs": [],
   "source": [
    "import pandas as pd"
   ]
  },
  {
   "cell_type": "code",
   "execution_count": 2,
   "id": "346adad4-7ed1-41a2-92a0-3791bb430b27",
   "metadata": {},
   "outputs": [],
   "source": [
    "df = pd.read_csv('results_combined.tsv', sep='\\t')"
   ]
  },
  {
   "cell_type": "markdown",
   "id": "d241d263-655d-4269-807e-a98cd408028e",
   "metadata": {},
   "source": [
    "### Pivot AVG, SUM and DENOM"
   ]
  },
  {
   "cell_type": "code",
   "execution_count": 4,
   "id": "d8da431f-870a-474f-88ff-3d2f641bc4af",
   "metadata": {},
   "outputs": [],
   "source": [
    "df_pivot = df.pivot(index='IID', columns='PGS', values=['SUM', 'DENOM', 'AVG'])\n",
    "df_pivot.columns = [f'{col[1]}_{col[0]}' for col in df_pivot.columns]\n",
    "df_pivot.reset_index(inplace=True)"
   ]
  },
  {
   "cell_type": "code",
   "execution_count": 4,
   "id": "98fd7f3d-55cf-4950-bccb-48dd224c7f0f",
   "metadata": {},
   "outputs": [],
   "source": [
    "df_pivot.to_csv('results_pivot_full.csv')"
   ]
  },
  {
   "cell_type": "markdown",
   "id": "31971da8-189d-4420-8996-69a38b27d6a5",
   "metadata": {},
   "source": [
    "### Pivot only SUM "
   ]
  },
  {
   "cell_type": "code",
   "execution_count": 5,
   "id": "b0a27446-451a-4f62-bae7-194163ed713e",
   "metadata": {},
   "outputs": [],
   "source": [
    "df = df[['IID', 'PGS', 'SUM']]"
   ]
  },
  {
   "cell_type": "code",
   "execution_count": 6,
   "id": "760e708e-6c5f-40ad-b704-5acbf4900a53",
   "metadata": {},
   "outputs": [],
   "source": [
    "df_pivot = df.pivot(index='IID', columns='PGS', values='SUM')\n",
    "df_pivot.reset_index(inplace=True)"
   ]
  },
  {
   "cell_type": "code",
   "execution_count": 7,
   "id": "53557054-c045-40c3-8264-9e738f451ba8",
   "metadata": {},
   "outputs": [],
   "source": [
    "df_pivot.to_csv('results_pivot_sum_only.csv', index=False)"
   ]
  },
  {
   "cell_type": "markdown",
   "id": "d2e6341c-13b2-4b0f-8ac4-ddeaad0f06f6",
   "metadata": {},
   "source": [
    "### Pivot only AVG "
   ]
  },
  {
   "cell_type": "code",
   "execution_count": 10,
   "id": "413d81b3-5115-4505-8705-bc17b4987d9a",
   "metadata": {},
   "outputs": [],
   "source": [
    "df = df[['IID', 'PGS', 'AVG']]"
   ]
  },
  {
   "cell_type": "code",
   "execution_count": 11,
   "id": "37e41a3a-096e-4290-a38e-04fe1a6674bd",
   "metadata": {},
   "outputs": [],
   "source": [
    "df_pivot = df.pivot(index='IID', columns='PGS', values='AVG')\n",
    "df_pivot.reset_index(inplace=True)"
   ]
  },
  {
   "cell_type": "markdown",
   "id": "26548a30-2a91-410f-bdc2-fc3b0caadc08",
   "metadata": {},
   "source": [
    "### Read meta"
   ]
  },
  {
   "cell_type": "code",
   "execution_count": 12,
   "id": "f71fb8fe-7eec-4e4f-891d-2a68e66a8199",
   "metadata": {},
   "outputs": [],
   "source": [
    "meta = pd.read_excel('Table_2.XLSX')"
   ]
  },
  {
   "cell_type": "markdown",
   "id": "5b096b69-a2e3-43dc-8437-8fad2c885d8a",
   "metadata": {},
   "source": [
    "Remove all columns without *bmi* specified"
   ]
  },
  {
   "cell_type": "code",
   "execution_count": 13,
   "id": "4f3f9ef0-ab6f-4284-8761-09d8ac9e53df",
   "metadata": {},
   "outputs": [],
   "source": [
    "meta = meta[meta['bmi'].notna()]"
   ]
  },
  {
   "cell_type": "code",
   "execution_count": 14,
   "id": "c58f4cb3-fede-468b-afa6-863ebd4069f3",
   "metadata": {},
   "outputs": [],
   "source": [
    "meta['ID'] = meta['ID'].astype(str).str.strip()"
   ]
  },
  {
   "cell_type": "code",
   "execution_count": 15,
   "id": "447189bc-50fe-4655-bddc-95363114afbc",
   "metadata": {},
   "outputs": [],
   "source": [
    "df_filtered = df_pivot[df_pivot['IID'].isin(meta['ID'])]"
   ]
  },
  {
   "cell_type": "code",
   "execution_count": 16,
   "id": "22b38ffa-6a83-4607-95b3-675e282fcffd",
   "metadata": {},
   "outputs": [
    {
     "data": {
      "text/plain": [
       "True"
      ]
     },
     "execution_count": 16,
     "metadata": {},
     "output_type": "execute_result"
    }
   ],
   "source": [
    "df_filtered.shape[0] == meta.shape[0]"
   ]
  },
  {
   "cell_type": "code",
   "execution_count": 17,
   "id": "84209213-680d-42b6-8212-c4f64ab05400",
   "metadata": {},
   "outputs": [],
   "source": [
    "df_merged = df_filtered.merge(meta, left_on='IID', right_on='ID', how='inner')"
   ]
  },
  {
   "cell_type": "code",
   "execution_count": 23,
   "id": "596d1879-ae87-4565-957d-53af16f40a25",
   "metadata": {},
   "outputs": [
    {
     "data": {
      "text/plain": [
       "(8554, 4047)"
      ]
     },
     "execution_count": 23,
     "metadata": {},
     "output_type": "execute_result"
    }
   ],
   "source": [
    "df_merged.shape"
   ]
  },
  {
   "cell_type": "code",
   "execution_count": 18,
   "id": "63067eb6-1be4-4bd6-b27b-16e678707a25",
   "metadata": {},
   "outputs": [
    {
     "data": {
      "text/plain": [
       "True"
      ]
     },
     "execution_count": 18,
     "metadata": {},
     "output_type": "execute_result"
    }
   ],
   "source": [
    "sum(df_merged['IID'] == df_merged['ID']) == df_merged.shape[0]"
   ]
  },
  {
   "cell_type": "code",
   "execution_count": 16,
   "id": "7573562f-14b3-4c96-8c19-1769aca135f3",
   "metadata": {},
   "outputs": [],
   "source": [
    "df_merged.to_csv('merged_avg.csv', index=False)"
   ]
  },
  {
   "cell_type": "code",
   "execution_count": null,
   "id": "7875681b-6120-4d3b-813f-bf701090f973",
   "metadata": {},
   "outputs": [],
   "source": []
  }
 ],
 "metadata": {
  "kernelspec": {
   "display_name": "Python 3 (ipykernel)",
   "language": "python",
   "name": "python3"
  },
  "language_info": {
   "codemirror_mode": {
    "name": "ipython",
    "version": 3
   },
   "file_extension": ".py",
   "mimetype": "text/x-python",
   "name": "python",
   "nbconvert_exporter": "python",
   "pygments_lexer": "ipython3",
   "version": "3.12.1"
  }
 },
 "nbformat": 4,
 "nbformat_minor": 5
}
