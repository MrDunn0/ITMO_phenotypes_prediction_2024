{
 "cells": [
  {
   "cell_type": "code",
   "execution_count": 1,
   "id": "21b5d072-7ff4-4d87-8dba-3a26728176cb",
   "metadata": {},
   "outputs": [],
   "source": [
    "import pandas as pd\n",
    "import seaborn as sns\n",
    "import xgboost as xgb\n",
    "import matplotlib.pyplot as plt\n",
    "from scipy import stats\n",
    "from catboost import CatBoostClassifier, Pool\n",
    "from catboost.utils import eval_metric\n",
    "from sklearn.model_selection import train_test_split\n",
    "from sklearn.metrics import accuracy_score, classification_report, roc_curve, roc_auc_score"
   ]
  },
  {
   "cell_type": "markdown",
   "id": "e7a39f48-5749-47ee-b1c2-33ed5457be7c",
   "metadata": {},
   "source": [
    "# Custom functions "
   ]
  },
  {
   "cell_type": "code",
   "execution_count": 2,
   "id": "aa7b0f0f-e77f-4b1c-97c0-698fc6119191",
   "metadata": {},
   "outputs": [],
   "source": [
    "import requests\n",
    "import json\n",
    "def get_pgs_anno_from_catalog(pgs_id: str) -> str | None:\n",
    "    url = f'https://www.pgscatalog.org/rest/score/{pgs_id}'\n",
    "    response = requests.get(url)\n",
    "    anno = response.json()\n",
    "    if 'trait_reported' in anno:\n",
    "        return anno['trait_reported']\n",
    "    elif 'description' in anno:\n",
    "        return anno['description']\n",
    "    else:\n",
    "        return ''\n",
    "\n",
    "def get_features_anno(df):\n",
    "    return {\n",
    "        col: get_pgs_anno_from_catalog(col.split('_')[0])\n",
    "        for col in df.columns\n",
    "    }\n",
    "\n",
    "def top_n_corr_with_anno(X, y, n: int, plt_width=10, plt_height=6):\n",
    "    corr = X.corrwith(y)\n",
    "    abs_corr = corr.abs().sort_values(ascending=False)\n",
    "    top_features = abs_corr.head(n).index\n",
    "    top_features_names = [\n",
    "        pgs.split('_')[0] + ' ' + get_pgs_anno_from_catalog(pgs.split('_')[0])\n",
    "        for pgs in top_features\n",
    "    ]\n",
    "    plt.figure(figsize=(plt_width, plt_height))\n",
    "    sns.barplot(x=abs_corr[top_features], y=top_features_names)\n",
    "    plt.xlabel('Absolute Correlation with BMI')\n",
    "    plt.ylabel('Features')\n",
    "    plt.title(f'Top {n} Features Correlated with BMI')\n",
    "    plt.show()\n",
    "\n",
    "def reduce_to_top_n_correlated(X, y, n):\n",
    "    corr = X.corrwith(y)\n",
    "    abs_corr = corr.abs().sort_values(ascending=False)\n",
    "    top_features = abs_corr.head(n).index\n",
    "    return X[top_features]"
   ]
  },
  {
   "cell_type": "markdown",
   "id": "9ac24292-5806-4461-b0e0-aafdf5ff1797",
   "metadata": {},
   "source": [
    "## Save PGS Meta information "
   ]
  },
  {
   "cell_type": "code",
   "execution_count": 3,
   "id": "a8a983fd-9df1-4cce-bddb-ca37d3ce8a83",
   "metadata": {},
   "outputs": [],
   "source": [
    "def fetch_pgs_catalog_metadata(f='pgs_meta.json'):\n",
    "    initial_url = 'https://www.pgscatalog.org/rest/score/all'\n",
    "    full_meta = []\n",
    "\n",
    "    url = initial_url\n",
    "    page=1\n",
    "    while url:\n",
    "        print(f\"Processing page {page}\")\n",
    "        response = requests.get(url)\n",
    "        \n",
    "        if response.status_code != 200:\n",
    "            print(f\"Request failed with status code {response.status_code}\")\n",
    "            break\n",
    "       \n",
    "        data = response.json()\n",
    "        scores = data.get('results', [])\n",
    "        full_meta.extend(scores)\n",
    "    \n",
    "        if 'next' in data and data['next']:\n",
    "            page+=1\n",
    "            url = data.get('next')\n",
    "        else:\n",
    "            break  # No more pages, exit the loop\n",
    "    print(f\"Total number of scores fetched: {len(full_meta)}\")\n",
    "    return full_meta"
   ]
  },
  {
   "cell_type": "markdown",
   "id": "a09814ff-3fa1-49b4-996e-9dedd554a64c",
   "metadata": {},
   "source": [
    "## Local Metadata functions"
   ]
  },
  {
   "cell_type": "code",
   "execution_count": 4,
   "id": "d7c2a06f-d661-4a6c-bf66-4e68903f8cff",
   "metadata": {},
   "outputs": [],
   "source": [
    "def read_pgs_meta(file='pgs_meta.json'):\n",
    "    with open(file, 'r') as f:\n",
    "        meta = json.load(f)\n",
    "        return meta\n",
    "\n",
    "def create_pgs_meta_dict(file='pgs_meta.json'):\n",
    "    with open(file, 'r') as f:\n",
    "        meta = json.load(f)\n",
    "        id_meta_dict = {}\n",
    "        for pgs in meta:\n",
    "            id_meta_dict[pgs.get('id')] = pgs\n",
    "        return id_meta_dict\n",
    "\n",
    "def get_id_trait_dict(meta=None):\n",
    "    if meta is None:\n",
    "        meta = read_pgs_meta()\n",
    "    id_trait = {}\n",
    "    for pgs in meta:\n",
    "        id_trait[pgs.get('id')] = pgs.get('trait_reported')\n",
    "    return id_trait\n",
    "\n",
    "def get_pgs_trait(pgs_id):\n",
    "    meta = get_id_trait_dict()\n",
    "    return meta[pgs_id]\n",
    "\n",
    "def annot_pgs_cols(df):\n",
    "    meta = get_id_trait_dict()\n",
    "    anno = {}\n",
    "    for col in list(df.columns):\n",
    "        pgs = col.split('_')[0]\n",
    "        if pgs.startswith('PGS'):\n",
    "            anno[col] = meta[pgs]\n",
    "    return anno\n",
    "\n",
    "def get_pgs_meta(pgs_id, id_meta_dict=None):\n",
    "    \n",
    "    if id_meta_dict is None:\n",
    "        id_meta_dict = create_pgs_meta_dict()\n",
    "    return id_meta_dict[pgs_id]"
   ]
  },
  {
   "cell_type": "markdown",
   "id": "9202c2f8-ca84-46d5-b999-dd297dda1f07",
   "metadata": {},
   "source": [
    "## Meta based filtration "
   ]
  },
  {
   "cell_type": "code",
   "execution_count": 5,
   "id": "717f7f1b-4c1c-4183-ac57-aca0186d17fc",
   "metadata": {},
   "outputs": [],
   "source": [
    "def filter_by_ancestry(df, ancestry, threshold):\n",
    "    pgs_columns = [col for col in df.columns if col.startswith('PGS')]\n",
    "    non_pgs_columns = list(set(df.columns) - set(pgs_columns))\n",
    "\n",
    "    id_meta = create_pgs_meta_dict()\n",
    "\n",
    "    final_columns = []\n",
    "\n",
    "    for col in pgs_columns:\n",
    "        pgs_id = col.split('_')[0]\n",
    "        ancestry_info = id_meta[pgs_id]['ancestry_distribution']\n",
    "        if 'dev' in ancestry_info:\n",
    "            dist = ancestry_info['dev']['dist']\n",
    "        \n",
    "        elif 'eval' in ancestry_info:\n",
    "            dist = ancestry_info['eval']['dist']\n",
    "        \n",
    "        elif 'gwas' in ancestry_info:\n",
    "            dist = ancestry_info['gwas']['dist']\n",
    "        else:\n",
    "            trait = id_meta[pgs_id]['trait_reported']\n",
    "            print(f'No ancestry distribution info found for {pgs_id} ({trait})')\n",
    "            continue\n",
    "        if ancestry in dist and dist[ancestry] >= threshold:\n",
    "            final_columns.append(col)\n",
    "    final_columns.extend(non_pgs_columns)\n",
    "    return df[final_columns]"
   ]
  },
  {
   "cell_type": "markdown",
   "id": "959ae44d-4ef6-48fb-933f-d19d482f4857",
   "metadata": {},
   "source": [
    "# Analysis "
   ]
  },
  {
   "cell_type": "markdown",
   "id": "a4d124e1-4971-4205-a788-a72795bc4297",
   "metadata": {},
   "source": [
    "## Read and prepare data "
   ]
  },
  {
   "cell_type": "code",
   "execution_count": 6,
   "id": "d6f975ac-511d-44b2-a99b-2205d69b97db",
   "metadata": {},
   "outputs": [
    {
     "name": "stderr",
     "output_type": "stream",
     "text": [
      "/tmp/ipykernel_101119/1824097721.py:1: DtypeWarning: Columns (0,4034) have mixed types. Specify dtype option on import or set low_memory=False.\n",
      "  df_orig = pd.read_csv('merged_avg.csv')\n"
     ]
    }
   ],
   "source": [
    "df_orig = pd.read_csv('merged_avg.csv')"
   ]
  },
  {
   "cell_type": "code",
   "execution_count": 11,
   "id": "a90c93e5-69ac-4286-b896-8bd628806de1",
   "metadata": {},
   "outputs": [],
   "source": [
    "useless_columns = ['ID', 'clusters', 'weight', 'height', 'ethnicity',\n",
    "       'source', 'zscore_BMI_clasters', 'zscore_height_clasters',\n",
    "       'PRS_by_claters_height', 'PRS_by_claters_bmi', 'IID', ]\n",
    "df = df_orig.drop(useless_columns, axis=1)"
   ]
  },
  {
   "cell_type": "code",
   "execution_count": 12,
   "id": "dafa04cc-a52b-474d-978e-67e1f9fc13f4",
   "metadata": {},
   "outputs": [],
   "source": [
    "X = df.drop(columns=['bmi'])\n",
    "y = df['bmi']"
   ]
  },
  {
   "cell_type": "markdown",
   "id": "cce98df9-811d-4d1d-8604-3b9848f3ddf9",
   "metadata": {},
   "source": [
    "## Extract top n features by correlation "
   ]
  },
  {
   "cell_type": "code",
   "execution_count": 13,
   "id": "e8b19e13-d41f-494b-a9c6-bb5d9834684f",
   "metadata": {},
   "outputs": [
    {
     "name": "stderr",
     "output_type": "stream",
     "text": [
      "/home/musha/miniconda3/envs/skull/lib/python3.12/site-packages/numpy/lib/function_base.py:2897: RuntimeWarning: invalid value encountered in divide\n",
      "  c /= stddev[:, None]\n",
      "/home/musha/miniconda3/envs/skull/lib/python3.12/site-packages/numpy/lib/function_base.py:2898: RuntimeWarning: invalid value encountered in divide\n",
      "  c /= stddev[None, :]\n"
     ]
    }
   ],
   "source": [
    "n = 200\n",
    "top_n = reduce_to_top_n_correlated(df.drop(['sex', 'bmi', 'age'], axis=1), y , n)\n",
    "features = list(top_n.columns) + ['sex', 'age']"
   ]
  },
  {
   "cell_type": "code",
   "execution_count": 14,
   "id": "8eb4fc5a-c721-412d-ab34-ddc9eba9e060",
   "metadata": {},
   "outputs": [],
   "source": [
    "X_n = X[features]\n",
    "y_cat = y.apply(lambda x: x < 25)"
   ]
  },
  {
   "cell_type": "code",
   "execution_count": 60,
   "id": "ac654ac2-e2d7-4884-85b7-0002af3e92a0",
   "metadata": {},
   "outputs": [],
   "source": [
    "X_train, X_test, y_train, y_test = train_test_split(X_n, y_cat, test_size=0.2, random_state=77)"
   ]
  },
  {
   "cell_type": "markdown",
   "id": "4ebcc55f-e5eb-4ac0-850e-fdbaf62a3025",
   "metadata": {},
   "source": [
    "## Catboost classification "
   ]
  },
  {
   "cell_type": "code",
   "execution_count": 55,
   "id": "9e2a78d1-d3f1-4edc-b564-4c5f93069e97",
   "metadata": {},
   "outputs": [],
   "source": [
    "cat_features = ['sex']"
   ]
  },
  {
   "cell_type": "code",
   "execution_count": 61,
   "id": "8a2eca29-00f4-4673-bbbe-8014a8742dbb",
   "metadata": {},
   "outputs": [],
   "source": [
    "train_pool = Pool(X_train, y_train, cat_features=cat_features)\n",
    "test_pool = Pool(X_test, y_test, cat_features=cat_features)"
   ]
  },
  {
   "cell_type": "code",
   "execution_count": 62,
   "id": "5ad8671d-4617-4b14-b8df-cf459c8fbb69",
   "metadata": {},
   "outputs": [
    {
     "data": {
      "application/vnd.jupyter.widget-view+json": {
       "model_id": "9e9c7bbf977e43619469733f81544843",
       "version_major": 2,
       "version_minor": 0
      },
      "text/plain": [
       "MetricVisualizer(layout=Layout(align_self='stretch', height='500px'))"
      ]
     },
     "metadata": {},
     "output_type": "display_data"
    }
   ],
   "source": [
    "param_distribution = {\n",
    "    'one_hot_max_size': stats.bernoulli(p=0.2, loc=2),\n",
    "    'learning_rate': stats.uniform(0.01, 0.1),\n",
    "    'l2_leaf_reg': stats.uniform(1, 10),\n",
    "    'depth': stats.binom(n=10, p=0.2),\n",
    "    'boosting_type': ['Ordered', 'Plain']\n",
    "}\n",
    "\n",
    "model = CatBoostClassifier(iterations=1000, logging_level='Silent')\n",
    "\n",
    "randomized_search_results_10 = model.randomized_search(\n",
    "    param_distribution,\n",
    "    train_pool,\n",
    "    n_iter=10,\n",
    "    shuffle=False,\n",
    "    search_by_train_test_split=False,\n",
    "    verbose=False,\n",
    "    plot=True\n",
    ")"
   ]
  },
  {
   "cell_type": "markdown",
   "id": "eab44ecc-24cf-4848-aadb-fefd332317db",
   "metadata": {},
   "source": [
    "### Remove all BMI features "
   ]
  },
  {
   "cell_type": "code",
   "execution_count": 126,
   "id": "d4bf620a-5a4f-4163-b5e8-6eb12900848a",
   "metadata": {},
   "outputs": [
    {
     "name": "stderr",
     "output_type": "stream",
     "text": [
      "/home/musha/miniconda3/envs/skull/lib/python3.12/site-packages/numpy/lib/function_base.py:2897: RuntimeWarning: invalid value encountered in divide\n",
      "  c /= stddev[:, None]\n",
      "/home/musha/miniconda3/envs/skull/lib/python3.12/site-packages/numpy/lib/function_base.py:2898: RuntimeWarning: invalid value encountered in divide\n",
      "  c /= stddev[None, :]\n"
     ]
    }
   ],
   "source": [
    "n = 1000\n",
    "top_n= reduce_to_top_n_correlated(df.drop(['sex', 'bmi', 'age'], axis=1), y, n)\n",
    "anno = annot_pgs_cols(top_n)\n",
    "no_bmi = {pgs: an for pgs, an in anno.items() if 'bmi' not in an.lower()}\n",
    "no_bmi = list(no_bmi.keys())\n",
    "features = no_bmi + ['sex', 'age']"
   ]
  },
  {
   "cell_type": "code",
   "execution_count": 86,
   "id": "4671aa3c-d168-4d57-a735-848aad9306ea",
   "metadata": {},
   "outputs": [
    {
     "data": {
      "text/plain": [
       "924"
      ]
     },
     "execution_count": 86,
     "metadata": {},
     "output_type": "execute_result"
    }
   ],
   "source": [
    "len(features)"
   ]
  },
  {
   "cell_type": "code",
   "execution_count": 172,
   "id": "f16078a0-5b59-41b8-91f3-b2d7040f72d1",
   "metadata": {},
   "outputs": [],
   "source": [
    "X_n = X[features]\n",
    "y_cat = y.apply(lambda x: x < 25)\n",
    "X_train, X_test, y_train, y_test = train_test_split(X_n, y_cat, test_size=0.2, random_state=77)"
   ]
  },
  {
   "cell_type": "code",
   "execution_count": 88,
   "id": "d1112cd3-1096-444b-8354-67c67fea2846",
   "metadata": {},
   "outputs": [
    {
     "data": {
      "application/vnd.jupyter.widget-view+json": {
       "model_id": "e028fed80fef45bc82406413403848c9",
       "version_major": 2,
       "version_minor": 0
      },
      "text/plain": [
       "MetricVisualizer(layout=Layout(align_self='stretch', height='500px'))"
      ]
     },
     "metadata": {},
     "output_type": "display_data"
    }
   ],
   "source": [
    "cat_features = ['sex']\n",
    "train_pool = Pool(X_train, y_train, cat_features=cat_features)\n",
    "test_pool = Pool(X_test, y_test, cat_features=cat_features)\n",
    "\n",
    "param_distribution = {\n",
    "    'one_hot_max_size': stats.bernoulli(p=0.2, loc=2),\n",
    "    'learning_rate': stats.uniform(0.01, 0.1),\n",
    "    'l2_leaf_reg': stats.uniform(1, 10),\n",
    "    'depth': stats.binom(n=10, p=0.2),\n",
    "    'boosting_type': ['Ordered', 'Plain']\n",
    "}\n",
    "\n",
    "model = CatBoostClassifier(iterations=1000, logging_level='Silent')\n",
    "\n",
    "randomized_search_results_10 = model.randomized_search(\n",
    "    param_distribution,\n",
    "    train_pool,\n",
    "    n_iter=10,\n",
    "    shuffle=False,\n",
    "    search_by_train_test_split=False,\n",
    "    verbose=False,\n",
    "    plot=True\n",
    ")"
   ]
  },
  {
   "cell_type": "markdown",
   "id": "98f6d003-e953-4ecd-b1bb-18b2060a3f37",
   "metadata": {},
   "source": [
    "### Filter by ancestry"
   ]
  },
  {
   "cell_type": "code",
   "execution_count": 15,
   "id": "3e29e3d8-7dfb-42e4-a3b2-804dbc17ccd8",
   "metadata": {},
   "outputs": [
    {
     "name": "stderr",
     "output_type": "stream",
     "text": [
      "/home/musha/miniconda3/envs/skull/lib/python3.12/site-packages/numpy/lib/function_base.py:2897: RuntimeWarning: invalid value encountered in divide\n",
      "  c /= stddev[:, None]\n",
      "/home/musha/miniconda3/envs/skull/lib/python3.12/site-packages/numpy/lib/function_base.py:2898: RuntimeWarning: invalid value encountered in divide\n",
      "  c /= stddev[None, :]\n"
     ]
    }
   ],
   "source": [
    "n = 10\n",
    "top_n= reduce_to_top_n_correlated(df.drop(['sex', 'bmi', 'age'], axis=1), y, n)\n",
    "anno = annot_pgs_cols(top_n)\n",
    "no_bmi = {pgs: an for pgs, an in anno.items() if 'bmi' not in an.lower()}\n",
    "no_bmi = list(no_bmi.keys())\n",
    "features = no_bmi + ['sex', 'age']"
   ]
  },
  {
   "cell_type": "code",
   "execution_count": 16,
   "id": "74330daf-a225-43fe-a2f2-2a78e8ca1bd9",
   "metadata": {},
   "outputs": [],
   "source": [
    "X_n = X[features]\n",
    "X_n = filter_by_ancestry(X_n, 'EUR', 100)\n",
    "\n",
    "X_train, X_test, y_train, y_test = train_test_split(X_n, y_cat, test_size=0.3, random_state=10)\n",
    "\n",
    "X_test, X_val, y_test, y_val = train_test_split(X_test, y_test, test_size=0.33, random_state=10)"
   ]
  },
  {
   "cell_type": "code",
   "execution_count": 17,
   "id": "aa5e00f8-9341-4e8b-a8c6-83c9f4ddbdd3",
   "metadata": {},
   "outputs": [
    {
     "data": {
      "application/vnd.jupyter.widget-view+json": {
       "model_id": "5372c7f8d90140aa9c40c042f00f3aa7",
       "version_major": 2,
       "version_minor": 0
      },
      "text/plain": [
       "MetricVisualizer(layout=Layout(align_self='stretch', height='500px'))"
      ]
     },
     "metadata": {},
     "output_type": "display_data"
    }
   ],
   "source": [
    "cat_features = ['sex']\n",
    "train_pool = Pool(X_train, y_train, cat_features=cat_features)\n",
    "test_pool = Pool(X_test, y_test, cat_features=cat_features)\n",
    "\n",
    "param_distribution = {\n",
    "    'one_hot_max_size': stats.bernoulli(p=0.2, loc=2),\n",
    "    'learning_rate': stats.uniform(0.01, 0.1),\n",
    "    'l2_leaf_reg': stats.uniform(1, 10),\n",
    "    'depth': stats.binom(n=10, p=0.2),\n",
    "    'boosting_type': ['Ordered', 'Plain']\n",
    "}\n",
    "\n",
    "model = CatBoostClassifier(iterations=1000, logging_level='Silent')\n",
    "\n",
    "randomized_search_results_10 = model.randomized_search(\n",
    "    param_distribution,\n",
    "    train_pool,\n",
    "    n_iter=10,\n",
    "    shuffle=False,\n",
    "    search_by_train_test_split=False,\n",
    "    verbose=False,\n",
    "    plot=True\n",
    ")"
   ]
  },
  {
   "cell_type": "code",
   "execution_count": null,
   "id": "029b73ac-eb60-40b3-ad42-fce9a12efb21",
   "metadata": {},
   "outputs": [],
   "source": []
  },
  {
   "cell_type": "code",
   "execution_count": 18,
   "id": "1353aea8-abcb-451d-b5fa-f5f105916d76",
   "metadata": {},
   "outputs": [
    {
     "data": {
      "text/plain": [
       "{'boosting_type': 'Ordered',\n",
       " 'depth': 2,\n",
       " 'one_hot_max_size': 2,\n",
       " 'learning_rate': 0.04931754044187755,\n",
       " 'l2_leaf_reg': 7.534502931951519}"
      ]
     },
     "execution_count": 18,
     "metadata": {},
     "output_type": "execute_result"
    }
   ],
   "source": [
    "randomized_search_results_10['params']"
   ]
  },
  {
   "cell_type": "code",
   "execution_count": 19,
   "id": "7ab8dad1-d1fc-4fda-9cce-655ebefc5b2e",
   "metadata": {},
   "outputs": [],
   "source": [
    "train_pool = Pool(X_train, y_train, cat_features=['sex'])\n",
    "test_pool = Pool(X_test, y_test, cat_features=['sex'])\n",
    "val_pool = Pool(X_val, y_val, cat_features=['sex'])"
   ]
  },
  {
   "cell_type": "code",
   "execution_count": 20,
   "id": "34fff0d7-db2c-44e8-8b9b-2a694fb24ab6",
   "metadata": {},
   "outputs": [],
   "source": [
    "def calculate_test_quality(train_pool=train_pool, val_pool=val_pool, test_pool=test_pool, **kwargs):\n",
    "    model = CatBoostClassifier(**kwargs, random_seed=42, cat_features=['sex'])\n",
    "    model.fit(train_pool, verbose=0, eval_set=val_pool)\n",
    "    y_pred = model.predict_proba(test_pool)\n",
    "    return eval_metric(test_pool.get_label(), y_pred[:, 1], 'AUC')"
   ]
  },
  {
   "cell_type": "code",
   "execution_count": 21,
   "id": "b415b836-4618-4138-9953-6698e107793d",
   "metadata": {},
   "outputs": [],
   "source": [
    "random_search_params = {\n",
    "    'boosting_type': 'Ordered',\n",
    " 'depth': 1,\n",
    " 'one_hot_max_size': 2,\n",
    " 'learning_rate': 0.04658589582322253,\n",
    " 'l2_leaf_reg': 9.140370431505685\n",
    "}"
   ]
  },
  {
   "cell_type": "code",
   "execution_count": 22,
   "id": "a01b4c29-039b-4334-8677-78b82bbecf6e",
   "metadata": {},
   "outputs": [
    {
     "data": {
      "text/plain": [
       "[0.7518532684283727]"
      ]
     },
     "execution_count": 22,
     "metadata": {},
     "output_type": "execute_result"
    }
   ],
   "source": [
    "calculate_test_quality(**randomized_search_results_10['params'])"
   ]
  },
  {
   "cell_type": "code",
   "execution_count": 41,
   "id": "66cf104a-bd1e-47c0-8a6c-4502c13f1405",
   "metadata": {},
   "outputs": [
    {
     "data": {
      "text/html": [
       "<div>\n",
       "<style scoped>\n",
       "    .dataframe tbody tr th:only-of-type {\n",
       "        vertical-align: middle;\n",
       "    }\n",
       "\n",
       "    .dataframe tbody tr th {\n",
       "        vertical-align: top;\n",
       "    }\n",
       "\n",
       "    .dataframe thead th {\n",
       "        text-align: right;\n",
       "    }\n",
       "</style>\n",
       "<table border=\"1\" class=\"dataframe\">\n",
       "  <thead>\n",
       "    <tr style=\"text-align: right;\">\n",
       "      <th></th>\n",
       "      <th>feature</th>\n",
       "      <th>importance</th>\n",
       "    </tr>\n",
       "  </thead>\n",
       "  <tbody>\n",
       "    <tr>\n",
       "      <th>0</th>\n",
       "      <td>PGS000319_hmPOS_GRCh37</td>\n",
       "      <td>6.405804</td>\n",
       "    </tr>\n",
       "    <tr>\n",
       "      <th>1</th>\n",
       "      <td>PGS000318_hmPOS_GRCh37</td>\n",
       "      <td>13.703903</td>\n",
       "    </tr>\n",
       "    <tr>\n",
       "      <th>2</th>\n",
       "      <td>PGS003408_hmPOS_GRCh37</td>\n",
       "      <td>5.882710</td>\n",
       "    </tr>\n",
       "    <tr>\n",
       "      <th>3</th>\n",
       "      <td>sex</td>\n",
       "      <td>38.215001</td>\n",
       "    </tr>\n",
       "    <tr>\n",
       "      <th>4</th>\n",
       "      <td>age</td>\n",
       "      <td>35.792582</td>\n",
       "    </tr>\n",
       "  </tbody>\n",
       "</table>\n",
       "</div>"
      ],
      "text/plain": [
       "                  feature  importance\n",
       "0  PGS000319_hmPOS_GRCh37    6.405804\n",
       "1  PGS000318_hmPOS_GRCh37   13.703903\n",
       "2  PGS003408_hmPOS_GRCh37    5.882710\n",
       "3                     sex   38.215001\n",
       "4                     age   35.792582"
      ]
     },
     "execution_count": 41,
     "metadata": {},
     "output_type": "execute_result"
    }
   ],
   "source": [
    "feature_importance_df = pd.DataFrame({\n",
    "    'feature': X_n.columns, \n",
    "    'importance': model.get_feature_importance()\n",
    "    #'shap': model.get_feature_importance(train_pool, type='ShapValues', reference_data=all_cat_pool)\n",
    "})\n",
    "\n",
    "feature_importance_df"
   ]
  },
  {
   "cell_type": "code",
   "execution_count": 42,
   "id": "692e2af0-f853-4ca2-b995-e21e7145d989",
   "metadata": {},
   "outputs": [],
   "source": [
    "pgs_anno = annot_pgs_cols(X_n)\n",
    "feature_importance_df['feature'] = feature_importance_df['feature'].replace(pgs_anno)"
   ]
  },
  {
   "cell_type": "code",
   "execution_count": 43,
   "id": "b7e700fc-29bb-432a-bbe5-8b408d6263d5",
   "metadata": {},
   "outputs": [
    {
     "data": {
      "text/html": [
       "<div>\n",
       "<style scoped>\n",
       "    .dataframe tbody tr th:only-of-type {\n",
       "        vertical-align: middle;\n",
       "    }\n",
       "\n",
       "    .dataframe tbody tr th {\n",
       "        vertical-align: top;\n",
       "    }\n",
       "\n",
       "    .dataframe thead th {\n",
       "        text-align: right;\n",
       "    }\n",
       "</style>\n",
       "<table border=\"1\" class=\"dataframe\">\n",
       "  <thead>\n",
       "    <tr style=\"text-align: right;\">\n",
       "      <th></th>\n",
       "      <th>feature</th>\n",
       "      <th>importance</th>\n",
       "    </tr>\n",
       "  </thead>\n",
       "  <tbody>\n",
       "    <tr>\n",
       "      <th>0</th>\n",
       "      <td>All-cause mortality (male)</td>\n",
       "      <td>6.405804</td>\n",
       "    </tr>\n",
       "    <tr>\n",
       "      <th>1</th>\n",
       "      <td>All-cause mortality (female)</td>\n",
       "      <td>13.703903</td>\n",
       "    </tr>\n",
       "    <tr>\n",
       "      <th>2</th>\n",
       "      <td>Intracranial aneurysm</td>\n",
       "      <td>5.882710</td>\n",
       "    </tr>\n",
       "    <tr>\n",
       "      <th>3</th>\n",
       "      <td>sex</td>\n",
       "      <td>38.215001</td>\n",
       "    </tr>\n",
       "    <tr>\n",
       "      <th>4</th>\n",
       "      <td>age</td>\n",
       "      <td>35.792582</td>\n",
       "    </tr>\n",
       "  </tbody>\n",
       "</table>\n",
       "</div>"
      ],
      "text/plain": [
       "                        feature  importance\n",
       "0    All-cause mortality (male)    6.405804\n",
       "1  All-cause mortality (female)   13.703903\n",
       "2         Intracranial aneurysm    5.882710\n",
       "3                           sex   38.215001\n",
       "4                           age   35.792582"
      ]
     },
     "execution_count": 43,
     "metadata": {},
     "output_type": "execute_result"
    }
   ],
   "source": [
    "feature_importance_df"
   ]
  },
  {
   "cell_type": "code",
   "execution_count": 48,
   "id": "46f14653-dfec-4d2c-a2e0-55db20cc6e7b",
   "metadata": {},
   "outputs": [
    {
     "name": "stderr",
     "output_type": "stream",
     "text": [
      "/tmp/ipykernel_101119/2680152743.py:2: FutureWarning: \n",
      "\n",
      "Passing `palette` without assigning `hue` is deprecated and will be removed in v0.14.0. Assign the `y` variable to `hue` and set `legend=False` for the same effect.\n",
      "\n",
      "  sns.barplot(x='importance', y='feature', data=feature_importance_df.sort_values(by='importance', ascending=False), palette='CMRmap')\n"
     ]
    },
    {
     "data": {
      "image/png": "[encoded data removed]",
      "text/plain": [
       "<Figure size 1000x600 with 1 Axes>"
      ]
     },
     "metadata": {},
     "output_type": "display_data"
    }
   ],
   "source": [
    "plt.figure(figsize=(10, 6))\n",
    "sns.barplot(x='importance', y='feature', data=feature_importance_df.sort_values(by='importance', ascending=False), palette='CMRmap')\n",
    "plt.xlabel('Importance (%)', fontsize=12, fontweight='bold')\n",
    "plt.ylabel('Feature', fontsize=12, fontweight='bold')\n",
    "plt.savefig('catboost_feature_importance.pdf', bbox_inches='tight', format='pdf')\n",
    "plt.show()"
   ]
  },
  {
   "cell_type": "code",
   "execution_count": 24,
   "id": "1dc2e7f4-9e1b-402f-8448-e2c2b48d10b8",
   "metadata": {},
   "outputs": [
    {
     "data": {
      "text/plain": [
       "<catboost.core.CatBoostClassifier at 0x7f7b9175deb0>"
      ]
     },
     "execution_count": 24,
     "metadata": {},
     "output_type": "execute_result"
    }
   ],
   "source": [
    "model_ctbst = CatBoostClassifier(**random_search_params, random_seed=42, cat_features=['sex'])\n",
    "model_ctbst.fit(train_pool, verbose=0, eval_set=val_pool)"
   ]
  },
  {
   "cell_type": "code",
   "execution_count": 27,
   "id": "5c0d04e8-4cf3-4e25-b799-9acb6f105718",
   "metadata": {},
   "outputs": [],
   "source": [
    "def roc_auc(model, train_pool=train_pool, val_pool=val_pool, test_pool=test_pool):\n",
    "    y_pred_proba = model.predict_proba(test_pool)[::,1]\n",
    "    \n",
    "    y_pred = model.predict(test_pool)\n",
    "\n",
    "    print(\"Accuracy\", accuracy_score(y_test, y_pred))\n",
    "\n",
    "    fpr, tpr, _ = roc_curve(y_test,  y_pred_proba)\n",
    "    auc = roc_auc_score(y_test, y_pred_proba)\n",
    "    plt.plot(fpr,tpr,label=\"data 1, auc=\"+str(auc))\n",
    "    plt.legend(loc=4)\n",
    "    plt.xlabel('False Positive Rate', fontsize=12, fontweight='bold')\n",
    "    plt.ylabel('True Positive Rate', fontsize=12, fontweight='bold')\n",
    "    plt.savefig('roc_auc_catboost.pdf', bbox_inches='tight', format='pdf')\n",
    "    plt.show()\n",
    "    \n",
    "    return eval_metric(test_pool.get_label(), y_pred_proba, 'AUC')"
   ]
  },
  {
   "cell_type": "code",
   "execution_count": 217,
   "id": "9c9a2104-cd50-4575-9505-6552f3f5cf1a",
   "metadata": {},
   "outputs": [
    {
     "data": {
      "text/plain": [
       "{'PGS000319_hmPOS_GRCh37': 'All-cause mortality (male)',\n",
       " 'PGS000318_hmPOS_GRCh37': 'All-cause mortality (female)',\n",
       " 'PGS003408_hmPOS_GRCh37': 'Intracranial aneurysm'}"
      ]
     },
     "execution_count": 217,
     "metadata": {},
     "output_type": "execute_result"
    }
   ],
   "source": [
    "annot_pgs_cols(X_n)"
   ]
  },
  {
   "cell_type": "code",
   "execution_count": 28,
   "id": "0424d00f-e4e8-4ea7-bc8a-b0b0c3b0b6c0",
   "metadata": {},
   "outputs": [
    {
     "name": "stdout",
     "output_type": "stream",
     "text": [
      "Accuracy 0.7015706806282722\n"
     ]
    },
    {
     "data": {
      "image/png": "[encoded data removed]",
      "text/plain": [
       "<Figure size 640x480 with 1 Axes>"
      ]
     },
     "metadata": {},
     "output_type": "display_data"
    },
    {
     "data": {
      "text/plain": [
       "[0.7507677329624478]"
      ]
     },
     "execution_count": 28,
     "metadata": {},
     "output_type": "execute_result"
    }
   ],
   "source": [
    "roc_auc(model_ctbst)"
   ]
  }
 ],
 "metadata": {
  "kernelspec": {
   "display_name": "Python 3 (ipykernel)",
   "language": "python",
   "name": "python3"
  },
  "language_info": {
   "codemirror_mode": {
    "name": "ipython",
    "version": 3
   },
   "file_extension": ".py",
   "mimetype": "text/x-python",
   "name": "python",
   "nbconvert_exporter": "python",
   "pygments_lexer": "ipython3",
   "version": "3.12.1"
  }
 },
 "nbformat": 4,
 "nbformat_minor": 5
}
